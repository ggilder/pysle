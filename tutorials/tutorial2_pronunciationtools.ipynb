{
 "cells": [
  {
   "cell_type": "markdown",
   "metadata": {},
   "source": [
    "# Pysle - a python interface to the ISLEX dictionary\n",
    "\n",
    "*Pronunciationtools*"
   ]
  },
  {
   "cell_type": "markdown",
   "metadata": {},
   "source": [
    "In this tutorial, we'll talk about the high-level features offered by `pronunciationtools`, one of the submodules of `Pysle`.  If this is your first exposure to Pysle, you'll want to checkout the [Intro to Psyle tutorial](https://nbviewer.jupyter.org/github/timmahrt/pysle/blob/main/tutorials/tutorial1_intro_to_pysle.ipynb) first.\n",
    "\n",
    "Pronunciationtools offers four different tool that can be accessed fairly easily. If you're ok getting your hands dirty, you can get the same functionality by digging into the `isletool` and `phonetics` submodules.  The four tools are:\n",
    "- [alignPronunciations](#alignpronunciations)\n",
    "- [findClosestEntryForPhones](#findclosestentryforphones)\n",
    "- [findClosestEntryForSyllabification](#findclosestentryforsyllabification)\n",
    "- [findBestSyllabification](#findbestsyllabification)\n",
    "\n",
    "These tools are generally used to work with pronunciation data that you already have and to use the isle dictionary in conjunction with it somehow.\n",
    "\n",
    "Before getting started, let's warm up our dev environment:"
   ]
  },
  {
   "cell_type": "code",
   "execution_count": 43,
   "metadata": {},
   "outputs": [
    {
     "name": "stdout",
     "output_type": "stream",
     "text": [
      "Text\n"
     ]
    }
   ],
   "source": [
    "from pysle import isletool\n",
    "from pysle import pronunciationtools\n",
    "\n",
    "isle = isletool.Isle()"
   ]
  },
  {
   "cell_type": "markdown",
   "metadata": {},
   "source": [
    "## alignPronunciations\n",
    "\n",
    "alignPronunciations is a tool for mapping some pronunciation to pronunciations from the pysle dictionary.\n",
    "\n",
    "Suppose we have some recordings from a production experiment.  Someone meticulously annotated the phonemes for the recordings. But now we want to label the syllables and identify which syllables are stressed. Pysle can be used to automatically guess syllable stress placement. However, the phonemes in the dictionary pronunications and in the actual pronunications may differ.\n",
    "\n",
    "In order to make a mapping between the two, we can use alignPronunciations.  And in fact, its what is used internally by some other tools we'll look at."
   ]
  },
  {
   "cell_type": "code",
   "execution_count": 44,
   "metadata": {},
   "outputs": [
    {
     "name": "stdout",
     "output_type": "stream",
     "text": [
      "['ˈæ', 'ŋ', 'ʃ', 'ə', 's']\n",
      "['ˈæ', 'ŋ', 'k', 'ʃ', 'ə', 's']\n"
     ]
    }
   ],
   "source": [
    "word = \"anxious\"\n",
    "\n",
    "entries = isle.lookup(word)\n",
    "dictionaryPronunciation1 = entries[0].syllabificationList[0].desyllabify().phonemes\n",
    "\n",
    "dictionaryPronunciation2 = entries[1].syllabificationList[0].desyllabify().phonemes\n",
    "\n",
    "print(dictionaryPronunciation1)\n",
    "print(dictionaryPronunciation2)"
   ]
  },
  {
   "cell_type": "code",
   "execution_count": 45,
   "metadata": {},
   "outputs": [
    {
     "name": "stdout",
     "output_type": "stream",
     "text": [
      "['ˈæ', 'ŋ', 'k', 'tʃ', 'ə', 's']\n",
      "['ˈæ', 'ŋ', 'ʃ', \"''\", 'ə', 's']\n"
     ]
    }
   ],
   "source": [
    "actualPronunciation = ['ˈæ', 'ŋ', 'k', 'tʃ', 'ə', 's'] # Hyper articulation?\n",
    "\n",
    "actualAlignedWithFirst, firstAlignedWithActual = pronunciationtools.alignPronunciations(actualPronunciation, dictionaryPronunciation1, True)\n",
    "print(actualAlignedWithFirst.phonemes)\n",
    "print(firstAlignedWithActual.phonemes)"
   ]
  },
  {
   "cell_type": "code",
   "execution_count": 46,
   "metadata": {},
   "outputs": [
    {
     "name": "stdout",
     "output_type": "stream",
     "text": [
      "['ˈæ', 'ŋ', 'k', 'tʃ', 'ə', 's']\n",
      "['ˈæ', 'ŋ', 'k', 'ʃ', 'ə', 's']\n"
     ]
    }
   ],
   "source": [
    "actualPronunciation = ['ˈæ', 'ŋ', 'k', 'tʃ', 'ə', 's']\n",
    "\n",
    "actualAlignedWithSecond, secondAlignedWithActual = pronunciationtools.alignPronunciations(actualPronunciation, dictionaryPronunciation2, True)\n",
    "print(actualAlignedWithSecond.phonemes)\n",
    "print(secondAlignedWithActual.phonemes)"
   ]
  },
  {
   "cell_type": "markdown",
   "metadata": {},
   "source": [
    "alignPronunciations finds the longest non-continuous sequence (eg ['ˈæ', 'ŋ', 'k', 'ə', 's'] in the last example) and then transforms the two phone lists along that sequence.  In the spot where the two pronunciations differed, one had 'tʃ' and the other 'ʃ'--the function basically tolerates any phone to fill that position.\n",
    "\n",
    "Let's try again but with a constant against a vowel:"
   ]
  },
  {
   "cell_type": "code",
   "execution_count": 47,
   "metadata": {},
   "outputs": [
    {
     "name": "stdout",
     "output_type": "stream",
     "text": [
      "['ˈæ', 'ŋ', 'k', 'ʃ', 'ə', \"''\", 's']\n",
      "['ˈæ', 'ŋ', 'k', \"''\", 'o', 'ə', 's']\n"
     ]
    }
   ],
   "source": [
    "dictionaryPronunciation = ['ˈæ', 'ŋ', 'k', 'ʃ', 'ə', 's']\n",
    "fakePronunciation = ['ˈæ', 'ŋ', 'k', 'o', 'ə', 's']\n",
    "\n",
    "actualAlignedWithSecond, secondAlignedWithActual = pronunciationtools.alignPronunciations(dictionaryPronunciation, fakePronunciation, True)\n",
    "print(actualAlignedWithSecond.phonemes)\n",
    "print(secondAlignedWithActual.phonemes)"
   ]
  },
  {
   "cell_type": "markdown",
   "metadata": {},
   "source": [
    "Since fuzzy matching is set to True, it paired the shwa with 'o' (eg ['ˈæ', 'ŋ', 'k', 'V', 's'] where 'V' fills in for 'shwa' and 'o'), This left an unmatched 'ʃ' in the first word and an unmatched 'shwa' in the second word.  \n",
    "\n",
    "Fuzzy matching will allow any vowel to match with any other vowel. It will also match nasals together and match rhotics together.\n",
    "\n",
    "Let's try again but with fuzzy matching set to False."
   ]
  },
  {
   "cell_type": "code",
   "execution_count": 48,
   "metadata": {},
   "outputs": [
    {
     "name": "stdout",
     "output_type": "stream",
     "text": [
      "['t', 'ˈæ', 'ŋ', 'k', 'ʃ', \"''\", 'ə', 's', \"''\"]\n",
      "[\"''\", 'ˈæ', 'ŋ', 'k', 'o', 'o', 'ə', 's', 't']\n"
     ]
    }
   ],
   "source": [
    "dictionaryPronunciation = ['t', 'ˈæ', 'ŋ', 'k', 'ʃ', 'ə', 's']\n",
    "fakePronunciation = ['ˈæ', 'ŋ', 'k', 'o', 'o', 'ə', 's', 't']\n",
    "\n",
    "actualAlignedWithSecond, secondAlignedWithActual = pronunciationtools.alignPronunciations(dictionaryPronunciation, fakePronunciation, False)\n",
    "print(actualAlignedWithSecond.phonemes)\n",
    "print(secondAlignedWithActual.phonemes)"
   ]
  },
  {
   "cell_type": "markdown",
   "metadata": {},
   "source": [
    "This time matching was strict (ie ['ˈæ', 'ŋ', 'k', 'ə', 's']). After matching is done, align will pair unrelated phones and then insert spaces where appropriate to make the two strings the same length."
   ]
  },
  {
   "cell_type": "markdown",
   "metadata": {},
   "source": [
    "## findClosestEntryForPhones\n",
    "\n",
    "If we have a word and a list of phones `findClosestEntryForPhones` will return the entry that is most similar. To determine similarity, it will use the same logic as `alignPronunciations` and then count how many changes are needed to align the two.\n",
    "\n",
    "Let's start by taking a look at some entries for a word in the dictionary:"
   ]
  },
  {
   "cell_type": "code",
   "execution_count": 49,
   "metadata": {},
   "outputs": [
    {
     "name": "stdout",
     "output_type": "stream",
     "text": [
      "[[['ə'], ['n', 'ˈʌ'], ['ð', 'ɚ']]]\n",
      "[[['ə'], ['n', 'ˈʌ'], ['ð', 'ə', 'ɹ']]]\n"
     ]
    }
   ],
   "source": [
    "results = isle.lookup('another')\n",
    "for entry in results:\n",
    "    print(entry.toList())"
   ]
  },
  {
   "cell_type": "markdown",
   "metadata": {},
   "source": [
    "If we lookup a word that has a pronunciation that doesn't match either of those, pysle will return the one that matches best."
   ]
  },
  {
   "cell_type": "code",
   "execution_count": 50,
   "metadata": {},
   "outputs": [
    {
     "name": "stdout",
     "output_type": "stream",
     "text": [
      "[[['ə'], ['n', 'ˈʌ'], ['ð', 'ɚ']]]\n"
     ]
    }
   ],
   "source": [
    "word = \"another\"\n",
    "pronunciation = ['ei', 'n', 'ˈʌ', 'ð', 'ɚ']\n",
    "closestEntry = pronunciationtools.findClosestEntryForPhones(isle, word, pronunciation)\n",
    "print(closestEntry.toList())"
   ]
  },
  {
   "cell_type": "markdown",
   "metadata": {},
   "source": [
    "## findClosestEntryForSyllabification\n",
    "\n",
    "`findClosestEntryForPhones` has a close relative in `findClosestEntryForSyllabification`. However, the syllabification version has a bit of a different response.  Instead of just finding the closest entry, it also returns the constructed version of the input that was used to find the closest entry."
   ]
  },
  {
   "cell_type": "code",
   "execution_count": 51,
   "metadata": {},
   "outputs": [
    {
     "name": "stdout",
     "output_type": "stream",
     "text": [
      "[[['ə'], ['n', 'ˈʌ'], ['ð', 'ɚ']]]\n",
      "[[['ei'], [\"''\", \"''\", 'ð', 'ɚ']]]\n"
     ]
    }
   ],
   "source": [
    "word = \"another\"\n",
    "pronunciation = [['ei'], ['ð', 'ɚ']]\n",
    "closestEntry, constructedEntry = pronunciationtools.findClosestEntryForSyllabification(isle, word, pronunciation)\n",
    "print(closestEntry.toList())\n",
    "print(constructedEntry.toList())"
   ]
  },
  {
   "cell_type": "markdown",
   "metadata": {},
   "source": [
    "## findBestSyllabification\n",
    "\n",
    "If we have a word and a list of phones, findBestSyllabification will give us the best syllabification for those phones. It does this by \n",
    "1) finding all entries for the word\n",
    "2) finding the phone list from those entries that closest matches the provided phone list\n",
    "3) lining up the provided phone list and matched phone list\n",
    "4) and finally mapping the matched phone list's syllable structure onto the provided phone list\n",
    "\n",
    "Let's take a look at an example:"
   ]
  },
  {
   "cell_type": "code",
   "execution_count": 52,
   "metadata": {},
   "outputs": [
    {
     "name": "stdout",
     "output_type": "stream",
     "text": [
      "[['ei'], ['n', 'ˈʌ'], ['ð', 'ɚ']]\n"
     ]
    }
   ],
   "source": [
    "word = \"another\"\n",
    "pronunciation = ['ei', 'n', 'ˈʌ', 'ð', 'ɚ']\n",
    "bestSyllabification = pronunciationtools.findBestSyllabification(isle, word, pronunciation)\n",
    "print(bestSyllabification.toList())"
   ]
  },
  {
   "cell_type": "markdown",
   "metadata": {},
   "source": [
    "The system easily stumbles though, so its best to use with clean data.  If a syllable gets dropped, for example, the results probably won't be very meaningful if there isn't a similar entry in ISLEX."
   ]
  },
  {
   "cell_type": "code",
   "execution_count": 53,
   "metadata": {},
   "outputs": [
    {
     "name": "stdout",
     "output_type": "stream",
     "text": [
      "[['n'], ['ˈʌ', 'ð'], ['ɚ']]\n"
     ]
    }
   ],
   "source": [
    "word = \"another\"\n",
    "pronunciation = ['n', 'ˈʌ', 'ð', 'ɚ']\n",
    "bestSyllabification = pronunciationtools.findBestSyllabification(isle, word, pronunciation)\n",
    "print(bestSyllabification.toList())"
   ]
  },
  {
   "cell_type": "markdown",
   "metadata": {},
   "source": []
  }
 ],
 "metadata": {
  "interpreter": {
   "hash": "9f4f9308d8c067bc54f19217961420129f85d6d7edcd3357ab16d4da998b3002"
  },
  "kernelspec": {
   "display_name": "Python 3.10.0 64-bit ('3.10.0': pyenv)",
   "language": "python",
   "name": "python3"
  },
  "language_info": {
   "codemirror_mode": {
    "name": "ipython",
    "version": 3
   },
   "file_extension": ".py",
   "mimetype": "text/x-python",
   "name": "python",
   "nbconvert_exporter": "python",
   "pygments_lexer": "ipython3",
   "version": "3.10.0"
  },
  "orig_nbformat": 4
 },
 "nbformat": 4,
 "nbformat_minor": 2
}
