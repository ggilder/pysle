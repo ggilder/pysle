{
 "cells": [
  {
   "cell_type": "markdown",
   "metadata": {},
   "source": [
    "# Pysle - a python interface to the ISLEX dictionary\n",
    "\n",
    "*Introduction to Pysle*"
   ]
  },
  {
   "cell_type": "markdown",
   "metadata": {},
   "source": [
    "<hr>\n",
    "TABLE OF CONTENTS\n",
    "\n",
    "**Introduction**\n",
    "- [What is ISLEX?](#what-is-islex)\n",
    "- [What is Pysle?](#what-is-pysle)\n",
    "\n",
    "**Tutorial**\n",
    "- [Installation](#installation)\n",
    "- [First example](#first-example)\n",
    "\n",
    "[Summary](#summary)"
   ]
  },
  {
   "cell_type": "markdown",
   "metadata": {},
   "source": [
    "## Introduction\n",
    "\n",
    "### What is ISLEX?\n",
    "\n",
    "**ISLEX** (https://github.com/uiuc-sst/g2ps/tree/master/English-US) is an English pronunciation dictionary.  Each entry in ISLEX looks like:\n",
    "\n",
    "    islands(+island+s,nnp,nnps,nns,vbz) # ˈɑɪ . l n̩ d z #\n",
    "\n",
    "There are three components:\n",
    "- the word\n",
    "- a list containing possible parts of speech (using those defined by the Penn Treebank https://cs.nyu.edu/~grishman/jet/guide/PennPOS.html)\n",
    "- the pronunciation (rendered in IPA https://en.wikipedia.org/wiki/International_Phonetic_Alphabet)\n",
    "\n",
    "A word can have multiple entries in the dictionary, one per pronunciation.  Here is another entry for *islands*\n",
    "\n",
    "    islands(+island+s,nnp,nnps,nns,vbz) # ˈɑɪ s . l n̩ d z #\n",
    "\n",
    "### What is Pysle?\n",
    "\n",
    "Pysle is an interface to the ISLEX dictionary. In addition to being able to fetch entries from the ISLEX dictionary, it contains some high-level functions--those will mostly be covered in later tutorials.\n",
    "\n",
    "In this tutorial we'll cover the basics needed to understand how to use Pysle.\n"
   ]
  },
  {
   "cell_type": "markdown",
   "metadata": {},
   "source": [
    "## Tutorial\n",
    "\n",
    "### Installation\n",
    "\n",
    "Before working with Pysle, we need to install it.  It can be installed easily using pip like so.  For other installation options, see the main github page for Pysle."
   ]
  },
  {
   "cell_type": "code",
   "execution_count": 16,
   "metadata": {},
   "outputs": [
    {
     "name": "stdout",
     "output_type": "stream",
     "text": [
      "Requirement already satisfied: pysle in /Users/tmahrt/.pyenv/versions/3.10.0/lib/python3.10/site-packages (4.0.0)\n",
      "Requirement already satisfied: praatio>=5.0 in /Users/tmahrt/.pyenv/versions/3.10.0/lib/python3.10/site-packages (from pysle) (5.1.1)\n",
      "Requirement already satisfied: typing-extensions in /Users/tmahrt/.pyenv/versions/3.10.0/lib/python3.10/site-packages (from pysle) (4.0.1)\n",
      "Note: you may need to restart the kernel to use updated packages.\n"
     ]
    }
   ],
   "source": [
    "%pip install pysle --upgrade"
   ]
  },
  {
   "cell_type": "markdown",
   "metadata": {},
   "source": [
    "\n",
    "### First example\n",
    "\n",
    "The first thing we'll typically need to do is to create an instance of **Isle**.  This is a class that holds important functionality related to the ISLEX dictionary.  Instantiating it with **isletool.Isle()** will cause the ISLEX to be loaded into memory.  The file is quite large and this process takes some time.\n",
    "\n",
    "> ISLEX takes about ~20 seconds to fully load into Pysle.  To make things quicker, Pysle lazy loads data--that is, data is only partially loaded until it is needed, at which point it becomes fully available. Running the first search over the ISLEX dictionary will be slow because everything needs to be loaded, but subsequent searches should be quick.  If you aren't searching but are looking for specific words, it should be very quick, even after a fresh startup."
   ]
  },
  {
   "cell_type": "code",
   "execution_count": 17,
   "metadata": {},
   "outputs": [
    {
     "name": "stdout",
     "output_type": "stream",
     "text": [
      "Text\n",
      "[<pysle.phonetics.Entry object at 0x10c286e60>, <pysle.phonetics.Entry object at 0x10c286e00>]\n"
     ]
    }
   ],
   "source": [
    "from pysle import isletool\n",
    "\n",
    "isle = isletool.Isle()\n",
    "words = isle.lookup(\"islands\")\n",
    "\n",
    "print(words)"
   ]
  },
  {
   "cell_type": "markdown",
   "metadata": {},
   "source": [
    "So looking up the word *islands* yielded two things called \"Entry\". A single Entry represents a line in the ISLEX dictionary like what we saw earlier. Recall that there are three parts: the name, the part of speech list, and pronunciation."
   ]
  },
  {
   "cell_type": "code",
   "execution_count": 18,
   "metadata": {},
   "outputs": [
    {
     "name": "stdout",
     "output_type": "stream",
     "text": [
      "islands\n",
      "['nnp', 'nns', 'vbz']\n",
      "[[['ˈɑɪ'], ['l', 'n̩', 'd', 'z']]]\n"
     ]
    }
   ],
   "source": [
    "island = words[0]\n",
    "\n",
    "print(island.word)\n",
    "print(island.posList)\n",
    "print(island.toList())"
   ]
  },
  {
   "cell_type": "markdown",
   "metadata": {},
   "source": [
    "An Entry has an attribute *syllabificationList* which actually contains the pronunciation:"
   ]
  },
  {
   "cell_type": "code",
   "execution_count": 19,
   "metadata": {},
   "outputs": [
    {
     "name": "stdout",
     "output_type": "stream",
     "text": [
      "[<pysle.phonetics.Syllabification object at 0x10c287580>]\n"
     ]
    }
   ],
   "source": [
    "print(island.syllabificationList)"
   ]
  },
  {
   "cell_type": "markdown",
   "metadata": {},
   "source": [
    "So an entry has a list of `Syllabification` objects.  And a `Syllabification` object has a list of `Syllables`.  Each `Syllable` contains a list of phones (which are just represented as strings).  It isn't quick or easy to go from an `Entry` to phones, which is why an `Entry` as the method *toList()*\n",
    "\n",
    "But let's do it anyways!"
   ]
  },
  {
   "cell_type": "code",
   "execution_count": 20,
   "metadata": {},
   "outputs": [
    {
     "name": "stdout",
     "output_type": "stream",
     "text": [
      "['ˈɑɪ']\n"
     ]
    }
   ],
   "source": [
    "islandSyllabification = island.syllabificationList[0]\n",
    "islandFirstSyllable = islandSyllabification.syllables[0]\n",
    "print(islandFirstSyllable.phonemes)"
   ]
  },
  {
   "cell_type": "markdown",
   "metadata": {},
   "source": [
    "As an aside: *island* only has a single syllabification.  That will be the case for most words, so you'll usually need to do `entry.syllabificationList[0]` as done above. If you're wondering why entries have a syllabification *list*, it's because there are multiword entries is ISLEX. For those entries, they'll have one syllabification in the list for each word.  For example:"
   ]
  },
  {
   "cell_type": "code",
   "execution_count": 21,
   "metadata": {},
   "outputs": [
    {
     "name": "stdout",
     "output_type": "stream",
     "text": [
      "[['ˈɑɪ'], ['l', 'n̩', 'd']]\n",
      "[['d', 'ˈɑ'], ['ɾ', 'ɪ', 'd']]\n"
     ]
    }
   ],
   "source": [
    "multiwordEntry = isle.lookup('island-dotted')[0]\n",
    "print(multiwordEntry.syllabificationList[0].toList())\n",
    "print(multiwordEntry.syllabificationList[1].toList())"
   ]
  },
  {
   "cell_type": "markdown",
   "metadata": {},
   "source": [
    "As we originally saw an `Entry` has a method `toList()`, and as we've seen now, a `Syllabification` has a `toList()` method as well. Syllables don't because their contents can be directly accessed eg `syllable.phonemes` as we saw earlier.\n",
    "\n",
    "A `Syllabification` has one more useful function"
   ]
  },
  {
   "cell_type": "code",
   "execution_count": 22,
   "metadata": {},
   "outputs": [
    {
     "name": "stdout",
     "output_type": "stream",
     "text": [
      "<pysle.phonetics.PhonemeList object at 0x10c2b7c70>\n"
     ]
    }
   ],
   "source": [
    "print(islandSyllabification.desyllabify())"
   ]
  },
  {
   "cell_type": "markdown",
   "metadata": {},
   "source": [
    "A `PhonemeList` and a `Syllable` are the same thing--a list of phones.  However, a `Syllable` must be a valid syllable (syllables cannot contain a VCV sequence, for example).  A `PhonemeList` is unconstrained and can include whatever you want.\n",
    "\n",
    "We know how to get phonemes from a `Syllable` and the same technique applies to a `PhonemeList`"
   ]
  },
  {
   "cell_type": "code",
   "execution_count": 23,
   "metadata": {},
   "outputs": [
    {
     "name": "stdout",
     "output_type": "stream",
     "text": [
      "['ˈɑɪ', 'l', 'n̩', 'd', 'z']\n"
     ]
    }
   ],
   "source": [
    "islandPhonemeList = islandSyllabification.desyllabify()\n",
    "print(islandPhonemeList.phonemes)"
   ]
  },
  {
   "cell_type": "markdown",
   "metadata": {},
   "source": [
    "## Summary\n",
    "\n",
    "To sum up so far:\n",
    "- each line in the ISLEX dictionary is represented by an Entry\n",
    "- an Entry has a word, a part of speech list, and pronunciation information\n",
    "- `Entry.toList()` can be used to quickly see the syllable structure of the word\n",
    "- for more low level detail\n",
    "  - `Entry.SyllabificationList` can be used to get the Syllabifications for the word\n",
    "    - there is one Syllabification per word\n",
    "    - there is usually one Syllabification per entry\n",
    "        - except for multi-word entries like \"island-dotted\"\n",
    "  - `Syllabification.toList()` can be used to see the syllable structure of the Syllabification\n",
    "  - `Syllabification.syllables` can be used to access the syllables for the Syllabification\n",
    "  - `Syllabification.desyllabify()` can be used to get the phones for the Syllabification\n",
    "  - `syllable.phonemes` or `phonemeList.phonemes` can be used to access the phonemes for those data structures\n",
    "\n",
    "\n",
    "\n",
    "`Entry`, `Syllabification`, `Syllable`, and `PhonemeList` all have various helper methods (eg `syllable.hasStress()`) which we won't be covering here.  If you've gotten this far, you understand the basics for how to use Isle and how to work with the results fetched from the system. For more information, the generated documentation (http://timmahrt.github.io/pysle/) can be a good place to get a feel for some of the functionality available."
   ]
  },
  {
   "cell_type": "markdown",
   "metadata": {},
   "source": [
    "In the next tutorials we'll look at some high-level tools that use this basic functionality including:\n",
    "- using pysle in conjuction with textgrids\n",
    "  - automatically filling in tiers with syllable, stress, or phone labels\n",
    "- searching ISLEX based on pronunciation\n",
    "- using ISLEX's dictionary pronunciations to analyze pronunciations found in a corpus\n",
    "\n",
    "If you have any feedback from this tutorial, please share!"
   ]
  }
 ],
 "metadata": {
  "interpreter": {
   "hash": "9f4f9308d8c067bc54f19217961420129f85d6d7edcd3357ab16d4da998b3002"
  },
  "kernelspec": {
   "display_name": "Python 3.10.0 64-bit ('3.10.0': pyenv)",
   "language": "python",
   "name": "python3"
  },
  "language_info": {
   "codemirror_mode": {
    "name": "ipython",
    "version": 3
   },
   "file_extension": ".py",
   "mimetype": "text/x-python",
   "name": "python",
   "nbconvert_exporter": "python",
   "pygments_lexer": "ipython3",
   "version": "3.10.0"
  },
  "orig_nbformat": 4
 },
 "nbformat": 4,
 "nbformat_minor": 2
}
